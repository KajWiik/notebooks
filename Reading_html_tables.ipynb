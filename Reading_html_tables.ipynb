{
 "cells": [
  {
   "cell_type": "code",
   "execution_count": 30,
   "metadata": {
    "collapsed": true
   },
   "outputs": [],
   "source": [
    "using Gumbo"
   ]
  },
  {
   "cell_type": "code",
   "execution_count": 31,
   "metadata": {
    "collapsed": false
   },
   "outputs": [],
   "source": [
    "using Requests"
   ]
  },
  {
   "cell_type": "code",
   "execution_count": 32,
   "metadata": {
    "collapsed": false
   },
   "outputs": [],
   "source": [
    "page = get(\"http://www.not.iac.es/observing/schedules/schedule.php?period=54&output=html\") |> readall |> parsehtml;"
   ]
  },
  {
   "cell_type": "code",
   "execution_count": 33,
   "metadata": {
    "collapsed": false
   },
   "outputs": [
    {
     "data": {
      "text/plain": [
       "Gumbo.HTMLElement{:HTML}:\n",
       "<HTML>\n",
       "  <head>\n",
       "    <title>Nordic Optical Telescope</title>\n",
       "    <meta content=\"text/html; charset=utf-8\"http-equiv=\"Content-Type\"></meta>\n",
       "    <script src=\"/include/styleSwitch.js\"type=\"text/javascript\">\n",
       "   <!-- function setStyle() {void(0);} // -->\n",
       " </script>\n",
       "    <link rel=\"icon\"href=\"/g/notlogo.ico\"type=\"image/x-icon\"></link>\n",
       "    <link rel=\"shortcut icon\"href=\"/g/notlogo.ico\"type=\"image/x-icon\"></link>\n",
       "    <link rel=\"stylesheet\"href=\"/include/styleGen.css\"type=\"text/css\"></link>\n",
       "    <link rel=\"stylesheet\"href=\"/include/styleFontMed.css\"type=\"text/css\"></link>\n",
       "    <link rel=\"alternate stylesheet\"href=\"/include/styleFontSmall.css\"title=\"smallfont\"media=\"screen\"type=\"text/css\"></link>\n",
       "    <link rel=\"alternate stylesheet\"href=\"/include/styleFontBig.css\"title=\"bigfont\"media=\"screen\"type=\"text/css\"></link>\n",
       "  </head>\n",
       "  <body vlink=\"#0000ff\"onload=\"setStyle();\"alink=\"#ff0000\"marginwidth=\"0\"topmargin=\"0\"leftmargin=\"0\"link=\"#0000ff\"marginheight=\"0\"bgcolor=\"#ffffff\">\n",
       "    <a name=\"Top\"></a>\n",
       "    <table height=\"100%\"border=\"0\"cellspacing=\"0\"style=\"height: 100%\"width=\"100%\"cellpadding=\"0\">\n",
       "      <tbody>\n",
       "        <tr>\n",
       "          <td align=\"left\"valign=\"top\"width=\"100%\"bgcolor=\"#0080ff\">\n",
       "            \n",
       " \n",
       ". . . \n"
      ]
     },
     "execution_count": 33,
     "metadata": {},
     "output_type": "execute_result"
    }
   ],
   "source": [
    "root = page.root"
   ]
  },
  {
   "cell_type": "code",
   "execution_count": 34,
   "metadata": {
    "collapsed": false
   },
   "outputs": [
    {
     "data": {
      "text/plain": [
       "\"Seppo Mattila, Maximilian Stritzinger, Peter Lundqvist, Nancy Elias-Rosa \""
      ]
     },
     "execution_count": 34,
     "metadata": {},
     "output_type": "execute_result"
    }
   ],
   "source": [
    "text(root[2][2][1][2][1][1][1][1][1][3][1][1][3][4].children[1])"
   ]
  },
  {
   "cell_type": "code",
   "execution_count": 37,
   "metadata": {
    "collapsed": false
   },
   "outputs": [
    {
     "name": "stdout",
     "output_type": "stream",
     "text": [
      "1: Oct 02 \n",
      "2: Oct 03 \n",
      "3: 53-501 \n",
      "4: Seppo Mattila, Maximilian Stritzinger, Peter Lundqvist, Nancy Elias-Rosa \n",
      "5: FI,DK,SE,IT \n",
      "6: Towards a complete and unbiased census of supernovae in the local Universe \n",
      "7: ALFOSC +FIES   \n",
      "8: Half night: Service \n"
     ]
    }
   ],
   "source": [
    "for i in 1:8\n",
    "    println(\"$i: \", text(root[2][2][1][2][1][1][1][1][1][3][1][1][3][i].children[1]))\n",
    "end"
   ]
  },
  {
   "cell_type": "code",
   "execution_count": 41,
   "metadata": {
    "collapsed": false
   },
   "outputs": [
    {
     "name": "stdout",
     "output_type": "stream",
     "text": [
      "1: Oct 19 \n",
      "2: Oct 20 \n",
      "3: 54-502 \n",
      "4: Carolina von Essen, Sven Wedemeyer \n",
      "5: DK,NO \n",
      "6: KOINet: Reprising Keplers heritage from the ground \n",
      "7: ALFOSC +FIES   \n",
      "8: Time critical UT 19:55 to 00:30: Service \n"
     ]
    }
   ],
   "source": [
    "for i in 1:8\n",
    "    println(\"$i: \", text(root[2][2][1][2][1][1][1][1][1][3][1][1][22][i].children[1]))\n",
    "end"
   ]
  }
 ],
 "metadata": {
  "anaconda-cloud": {},
  "kernelspec": {
   "display_name": "Julia 0.5.0",
   "language": "julia",
   "name": "julia-0.5"
  },
  "language_info": {
   "file_extension": ".jl",
   "mimetype": "application/julia",
   "name": "julia",
   "version": "0.5.0"
  }
 },
 "nbformat": 4,
 "nbformat_minor": 1
}
